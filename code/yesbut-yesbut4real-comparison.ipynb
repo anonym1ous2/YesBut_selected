{
 "cells": [
  {
   "cell_type": "markdown",
   "metadata": {},
   "source": [
    "## Generating captions for common images in original and real YesBut4Real Dataset"
   ]
  },
  {
   "cell_type": "code",
   "execution_count": null,
   "metadata": {
    "execution": {
     "iopub.execute_input": "2025-04-15T16:38:27.659604Z",
     "iopub.status.busy": "2025-04-15T16:38:27.659313Z",
     "iopub.status.idle": "2025-04-15T16:38:27.686987Z",
     "shell.execute_reply": "2025-04-15T16:38:27.686018Z",
     "shell.execute_reply.started": "2025-04-15T16:38:27.659582Z"
    },
    "trusted": true
   },
   "outputs": [],
   "source": [
    "original={\n",
    "    \"The image is ironical, as the person wearing a formal black suit and pants, is wearing colorful socks, probably due to the reason that socks are not visible while wearing shoes, and hence, do not need to be formal.\":[\"https://raw.githubusercontent.com/anonym1ous2/YesBut_selected/main/row_5.jpg\",\"https://raw.githubusercontent.com/anonym1ous2/YesBut_selected/main/row_289.jpg\",\"https://raw.githubusercontent.com/anonym1ous2/YesBut_selected/main/row_599.jpg\"],\n",
    "    \"The images are funny since it shows how the food packaging sets unreal expectations for the food inside with its graphics. The user gets to see the rather dull food once he opens the package and it is amusing to see how different the actual product is from the images\":[\"https://raw.githubusercontent.com/anonym1ous2/YesBut_selected/main/row_7.jpg\"],\n",
    "    \"This image is funny because images of very regular things - a stick figure and a bicycle, get converted into  looking phallic from a distance.\":[\"https://raw.githubusercontent.com/anonym1ous2/YesBut_selected/main/row_11.jpg\",\"https://raw.githubusercontent.com/anonym1ous2/YesBut_selected/main/row_294.jpg\"],\n",
    "    \"The image is ironic, as the t-shirt that says \\\"NONBINARY\\\" has only 2 options for gender on an online retail forum.\":[\"https://raw.githubusercontent.com/anonym1ous2/YesBut_selected/main/row_19.jpg\",\"https://raw.githubusercontent.com/anonym1ous2/YesBut_selected/main/row_297.jpg\",\"https://raw.githubusercontent.com/anonym1ous2/YesBut_selected/main/row_610.jpg\",\"https://raw.githubusercontent.com/anonym1ous2/YesBut_selected/main/row_611.jpg\"],\n",
    "    \"The images are funny since they show how a jumbled rubiks cube appears solved simply because of the viewers perspective.\":[\"https://raw.githubusercontent.com/anonym1ous2/YesBut_selected/main/row_26.jpg\"],\n",
    "    \"The image is funny, as the drink seems to be full to begin with, while most of the volume of the drink is occupied by the ice cubes.\":[\"https://raw.githubusercontent.com/anonym1ous2/YesBut_selected/main/row_33.jpg\",\"https://raw.githubusercontent.com/anonym1ous2/YesBut_selected/main/row_624.jpg\",\"https://raw.githubusercontent.com/anonym1ous2/YesBut_selected/main/row_625.jpg\",\"https://raw.githubusercontent.com/anonym1ous2/YesBut_selected/main/row_626.jpg\"],\n",
    "    \"The irony in this image describes shrinkflation, which is when stores start selling big bags of products with less product in them.\":[\"https://raw.githubusercontent.com/anonym1ous2/YesBut_selected/main/row_41.jpg\"],\n",
    "    \"The image is ironic, because the mountaineer climbs up the mountain to view the world from the peak but due to so much cloud, at the top, nothing is visible whereas he was able to witness some awesome views while climbing up the mountain\":[\"https://raw.githubusercontent.com/anonym1ous2/YesBut_selected/main/row_47.jpg\",\"https://raw.githubusercontent.com/anonym1ous2/YesBut_selected/main/row_324.jpg\",\"https://raw.githubusercontent.com/anonym1ous2/YesBut_selected/main/row_655.jpg\",\"https://raw.githubusercontent.com/anonym1ous2/YesBut_selected/main/row_656.jpg\",\"https://raw.githubusercontent.com/anonym1ous2/YesBut_selected/main/row_657.jpg\",\"https://raw.githubusercontent.com/anonym1ous2/YesBut_selected/main/row_658.jpg\"],\n",
    "    \"The images are ironic because even though garbage bins are provided for humans to dispose waste, by habit humans still choose to make surroundings dirty by disposing garbage improperly\":[\"https://raw.githubusercontent.com/anonym1ous2/YesBut_selected/main/row_54.jpg\",\"https://raw.githubusercontent.com/anonym1ous2/YesBut_selected/main/row_353.jpg\",\"https://raw.githubusercontent.com/anonym1ous2/YesBut_selected/main/row_354.jpg\",\"https://raw.githubusercontent.com/anonym1ous2/YesBut_selected/main/row_355.jpg\",\"https://raw.githubusercontent.com/anonym1ous2/YesBut_selected/main/row_664.jpg\",\"https://raw.githubusercontent.com/anonym1ous2/YesBut_selected/main/row_665.jpg\",\"https://raw.githubusercontent.com/anonym1ous2/YesBut_selected/main/row_666.jpg\",\"https://raw.githubusercontent.com/anonym1ous2/YesBut_selected/main/row_667.jpg\",\"https://raw.githubusercontent.com/anonym1ous2/YesBut_selected/main/row_668.jpg\"],\n",
    "    \"The images are funny since it shows how someone has put effort into a cup of coffee to do latte art on it only for it to be invisible after a lid is put on the coffee cup before serving to a customer\": [\"https://raw.githubusercontent.com/anonym1ous2/YesBut_selected/main/row_78.jpg\",\"https://raw.githubusercontent.com/anonym1ous2/YesBut_selected/main/row_358.jpg\",\"https://raw.githubusercontent.com/anonym1ous2/YesBut_selected/main/row_359.jpg\",\"https://raw.githubusercontent.com/anonym1ous2/YesBut_selected/main/row_360.jpg\",\"https://raw.githubusercontent.com/anonym1ous2/YesBut_selected/main/row_700.jpg\",\"https://raw.githubusercontent.com/anonym1ous2/YesBut_selected/main/row_701.jpg\",\"https://raw.githubusercontent.com/anonym1ous2/YesBut_selected/main/row_702.jpg\",\"https://raw.githubusercontent.com/anonym1ous2/YesBut_selected/main/row_703.jpg\",\"https://raw.githubusercontent.com/anonym1ous2/YesBut_selected/main/row_704.jpg\"],\n",
    "    \"The image is ironic, because the left image suggest that a person applies lipsticks on their lips to make their lips look attractive or to keep them hydrated but on the contrary it gets sticked to the glasses or mugs and gets wasted\":[\"https://raw.githubusercontent.com/anonym1ous2/YesBut_selected/main/row_88.jpg\",\"https://raw.githubusercontent.com/anonym1ous2/YesBut_selected/main/row_374.jpg\",\"https://raw.githubusercontent.com/anonym1ous2/YesBut_selected/main/row_375.jpg\",\"https://raw.githubusercontent.com/anonym1ous2/YesBut_selected/main/row_376.jpg\",\"https://raw.githubusercontent.com/anonym1ous2/YesBut_selected/main/row_728.jpg\",\"https://raw.githubusercontent.com/anonym1ous2/YesBut_selected/main/row_729.jpg\"],    \n",
    "    \"The images are ironic since the metallic water bottle aims to be more sustainable as can be seen from the sign on the bottle but its user fills it with a plastic bottle which destroys its purpose\":[\"https://raw.githubusercontent.com/anonym1ous2/YesBut_selected/main/row_102.jpg\"],\n",
    "    \"The image is funny, as the traffic light for pedestrains is red, even though it is at a zebra crossing, which does not need a red light for stopping a pedestrain from crossing. Also, there are no people or vehicles around, which makes the image even funnier.\":[\"https://raw.githubusercontent.com/anonym1ous2/YesBut_selected/main/row_116.jpg\",\"https://raw.githubusercontent.com/anonym1ous2/YesBut_selected/main/row_767.jpg\"],\n",
    "    \"The image is ironic, because on the one side tetra packs have cap or lid for opening but on the other side the folded end seems inconvenient to handle\":[\"https://raw.githubusercontent.com/anonym1ous2/YesBut_selected/main/row_133.jpg\"],\n",
    "    \"the irony is that dog owners buy loads of toys for their dog but the dog's favourite toy is the owner's slippers\": [\"https://raw.githubusercontent.com/anonym1ous2/YesBut_selected/main/row_136.jpg\",\"https://raw.githubusercontent.com/anonym1ous2/YesBut_selected/main/row_418.jpg\",\"https://raw.githubusercontent.com/anonym1ous2/YesBut_selected/main/row_800.jpg\",\"https://raw.githubusercontent.com/anonym1ous2/YesBut_selected/main/row_801.jpg\",\"https://raw.githubusercontent.com/anonym1ous2/YesBut_selected/main/row_802.jpg\",\"https://raw.githubusercontent.com/anonym1ous2/YesBut_selected/main/row_803.jpg\"],\n",
    "    \"The image is ironic, because even when the coffee maker create latte art to make coffee look attractive but it is there just for a short time after that it is vanished\":[\"https://raw.githubusercontent.com/anonym1ous2/YesBut_selected/main/row_145.jpg\",\"https://raw.githubusercontent.com/anonym1ous2/YesBut_selected/main/row_427.jpg\",\"https://raw.githubusercontent.com/anonym1ous2/YesBut_selected/main/row_809.jpg\",\"https://raw.githubusercontent.com/anonym1ous2/YesBut_selected/main/row_810.jpg\",\"https://raw.githubusercontent.com/anonym1ous2/YesBut_selected/main/row_811.jpg\",\"https://raw.githubusercontent.com/anonym1ous2/YesBut_selected/main/row_812.jpg\"],\n",
    "    \"The image is ironic, because even when the signal is green for the pedestrians but they can't cross the road because of the vehicles standing on the zebra crossing\":[\"https://raw.githubusercontent.com/anonym1ous2/YesBut_selected/main/row_146.jpg\",\"https://raw.githubusercontent.com/anonym1ous2/YesBut_selected/main/row_428.jpg\",\"https://raw.githubusercontent.com/anonym1ous2/YesBut_selected/main/row_813.jpg\",\"https://raw.githubusercontent.com/anonym1ous2/YesBut_selected/main/row_814.jpg\",\"https://raw.githubusercontent.com/anonym1ous2/YesBut_selected/main/row_815.jpg\",\"https://raw.githubusercontent.com/anonym1ous2/YesBut_selected/main/row_816.jpg\"],\n",
    "    \"This is funny because the pie chart printout is useless as you cant see any divisions on it because the  printer could not capture the different colors\":[\"https://raw.githubusercontent.com/anonym1ous2/YesBut_selected/main/row_158.jpg\",\"https://raw.githubusercontent.com/anonym1ous2/YesBut_selected/main/row_441.jpg\",\"https://raw.githubusercontent.com/anonym1ous2/YesBut_selected/main/row_442.jpg\",\"https://raw.githubusercontent.com/anonym1ous2/YesBut_selected/main/row_443.jpg\"],\n",
    "    \"The image is funny, because even when there is a dedicated thing for the animal to play with it still is hiding itself in the paper bag\":[\"https://raw.githubusercontent.com/anonym1ous2/YesBut_selected/main/row_163.jpg\",\"https://raw.githubusercontent.com/anonym1ous2/YesBut_selected/main/row_449.jpg\",\"https://raw.githubusercontent.com/anonym1ous2/YesBut_selected/main/row_450.jpg\",\"https://raw.githubusercontent.com/anonym1ous2/YesBut_selected/main/row_451.jpg\",\"https://raw.githubusercontent.com/anonym1ous2/YesBut_selected/main/row_843.jpg\",\"https://raw.githubusercontent.com/anonym1ous2/YesBut_selected/main/row_844.jpg\"],\n",
    "    \"The image is ironical, as even though the art studio contains a palette of a range of color paints, the painting on the canvas is black and white.\":[\"https://raw.githubusercontent.com/anonym1ous2/YesBut_selected/main/row_169.jpg\",\"https://raw.githubusercontent.com/anonym1ous2/YesBut_selected/main/row_459.jpg\",\"https://raw.githubusercontent.com/anonym1ous2/YesBut_selected/main/row_859.jpg\"],\n",
    "    \"the image is funny, as the marking at the top of the packaging shows that you would need a pair of scissors to in-turn cut open the pair of scissors that is inside the packaging.\":[\"https://raw.githubusercontent.com/anonym1ous2/YesBut_selected/main/row_180.jpg\",\"https://raw.githubusercontent.com/anonym1ous2/YesBut_selected/main/row_469.jpg\",\"https://raw.githubusercontent.com/anonym1ous2/YesBut_selected/main/row_877.jpg\"],\n",
    "    \"The images are ironic since a dog shampoo bottle has a sticker indicating that it has not been tested on animals and hence might not be safe for animal use. It is amusing that a product designed to be used by animals is not tested on animals for their safety\":[\"https://raw.githubusercontent.com/anonym1ous2/YesBut_selected/main/row_184.jpg\",\"https://raw.githubusercontent.com/anonym1ous2/YesBut_selected/main/row_472.jpg\",\"https://raw.githubusercontent.com/anonym1ous2/YesBut_selected/main/row_882.jpg\"],\n",
    "    \"The image is ironic, because in the first image clear sky is visible but in the second image the same view is getting blocked due to the electricity pole\":[\"https://raw.githubusercontent.com/anonym1ous2/YesBut_selected/main/row_186.jpg\",\"https://raw.githubusercontent.com/anonym1ous2/YesBut_selected/main/row_473.jpg\",\"https://raw.githubusercontent.com/anonym1ous2/YesBut_selected/main/row_474.jpg\",\"https://raw.githubusercontent.com/anonym1ous2/YesBut_selected/main/row_475.jpg\",\"https://raw.githubusercontent.com/anonym1ous2/YesBut_selected/main/row_884.jpg\",\"https://raw.githubusercontent.com/anonym1ous2/YesBut_selected/main/row_885.jpg\",\"https://raw.githubusercontent.com/anonym1ous2/YesBut_selected/main/row_886.jpg\",\"https://raw.githubusercontent.com/anonym1ous2/YesBut_selected/main/row_887.jpg\",\"https://raw.githubusercontent.com/anonym1ous2/YesBut_selected/main/row_888.jpg\"],\n",
    "    \"The image is ironic, because  in the first image the waiter is bringing the dish to the table presenting it as some lavish dish but in the second image when the dish is shown in the plate its just a small piece to eat\":[\"https://raw.githubusercontent.com/anonym1ous2/YesBut_selected/main/row_201.jpg\",\"https://raw.githubusercontent.com/anonym1ous2/YesBut_selected/main/row_921.jpg\"],\n",
    "    \"The image is funny becuase while folding the side mirrors is good when the car is not being used because it prevents damage but it is supposed to be used while driving and parking the car which has not been done in this case leading the car to be parked impropely.\":[\"https://raw.githubusercontent.com/anonym1ous2/YesBut_selected/main/row_210.jpg\"],\n",
    "    \"The images are ironic since paper straws were invented to reduce use of plastic in the form of plastic straws. However, these straws come in plastic packages and are served with plastic cups, defeating  the purpose\":[\"https://raw.githubusercontent.com/anonym1ous2/YesBut_selected/main/row_211.jpg\",\"https://raw.githubusercontent.com/anonym1ous2/YesBut_selected/main/row_506.jpg\"],\n",
    "    \"The images are ironic since even though e-tickets are provided to save resources like paper, people choose to print out e-tickets on large sheets of paper which leads to more wastage\":[\"https://raw.githubusercontent.com/anonym1ous2/YesBut_selected/main/row_214.jpg\",\"https://raw.githubusercontent.com/anonym1ous2/YesBut_selected/main/row_510.jpg\",\"https://raw.githubusercontent.com/anonym1ous2/YesBut_selected/main/row_946.jpg\"],\n",
    "    \"The image is ironic, because in the first image a toy, purposed for the cat to play with is shown but in the second image the cat is comfortably enjoying  to play on the sides of sofa\":[\"https://raw.githubusercontent.com/anonym1ous2/YesBut_selected/main/row_215.jpg\",\"https://raw.githubusercontent.com/anonym1ous2/YesBut_selected/main/row_511.jpg\",\"https://raw.githubusercontent.com/anonym1ous2/YesBut_selected/main/row_947.jpg\",\"https://raw.githubusercontent.com/anonym1ous2/YesBut_selected/main/row_948.jpg\",\"https://raw.githubusercontent.com/anonym1ous2/YesBut_selected/main/row_949.jpg\",\"https://raw.githubusercontent.com/anonym1ous2/YesBut_selected/main/row_950.jpg\"],\n",
    "    \"The image is ironic, because in the left image the man is showing love and care for the puppy but in the right image the same puppy is shown to be chained in a kennel, which shows dual nature of human towards animals\":[\"https://raw.githubusercontent.com/anonym1ous2/YesBut_selected/main/row_216.jpg\",\"https://raw.githubusercontent.com/anonym1ous2/YesBut_selected/main/row_512.jpg\",\"https://raw.githubusercontent.com/anonym1ous2/YesBut_selected/main/row_951.jpg\"],\n",
    "    \"The image is ironic, because a car trunk was earlier designed to keep some extra luggage or things but people nowadays get speakers installed in the trunk which in turn reduces the space in the trunk and making it difficult for people to store the extra luggage in the trunk\":[\"https://raw.githubusercontent.com/anonym1ous2/YesBut_selected/main/row_218.jpg\",\"https://raw.githubusercontent.com/anonym1ous2/YesBut_selected/main/row_514.jpg\",\"https://raw.githubusercontent.com/anonym1ous2/YesBut_selected/main/row_515.jpg\",\"https://raw.githubusercontent.com/anonym1ous2/YesBut_selected/main/row_516.jpg\",\"https://raw.githubusercontent.com/anonym1ous2/YesBut_selected/main/row_953.jpg\",\"https://raw.githubusercontent.com/anonym1ous2/YesBut_selected/main/row_954.jpg\",\"https://raw.githubusercontent.com/anonym1ous2/YesBut_selected/main/row_955.jpg\",\"https://raw.githubusercontent.com/anonym1ous2/YesBut_selected/main/row_956.jpg\",\"https://raw.githubusercontent.com/anonym1ous2/YesBut_selected/main/row_957.jpg\"],\n",
    "    \"The image is ironic, because the left door of the car is easily opened with still space left so the car could have been parked more on the left whereas the right door of the car is getting stuck due to the less space between the two cars and the person in facing difficulty in getting himself out but person on the left easily gets out\":[\"https://raw.githubusercontent.com/anonym1ous2/YesBut_selected/main/row_219.jpg\"],\n",
    "    \"The image is funny because while there are different holes provided to dump different kinds of waste, the separation is meaningless because the underlying bin which is the same. So all kinds of trash is collected together and can not be used for recycling.\":[\"https://raw.githubusercontent.com/anonym1ous2/YesBut_selected/main/row_221.jpg\",\"https://raw.githubusercontent.com/anonym1ous2/YesBut_selected/main/row_518.jpg\"],\n",
    "    \"This image is funny because a cap is MEANT to protect one's eyes from the sun, but this person is more interested in using it to look stylish, even if it makes them uncomfortable.\":[\"https://raw.githubusercontent.com/anonym1ous2/YesBut_selected/main/row_236.jpg\",\"https://raw.githubusercontent.com/anonym1ous2/YesBut_selected/main/row_987.jpg\"],\n",
    "    \"The images are funny since even though a cat tree is bought for cats to play with, cats would usually rather play with inexpensive cardboard boxes because they enjoy it more\":[\"https://raw.githubusercontent.com/anonym1ous2/YesBut_selected/main/row_239.jpg\",\"https://raw.githubusercontent.com/anonym1ous2/YesBut_selected/main/row_533.jpg\",\"https://raw.githubusercontent.com/anonym1ous2/YesBut_selected/main/row_990.jpg\"],\n",
    "    \"The irony in this video is that people try to promote and embrace veganism end up using products that are not animal-free.\":[\"https://raw.githubusercontent.com/anonym1ous2/YesBut_selected/main/row_253.jpg\",\"https://raw.githubusercontent.com/anonym1ous2/YesBut_selected/main/row_550.jpg\",\"https://raw.githubusercontent.com/anonym1ous2/YesBut_selected/main/row_1019.jpg\"],\n",
    "    \"The image is satirical because it shows that while people do various kinds of exercises and go to gym to stay fit, they avoid doing simplest of physical tasks like using stairs instead of elevators to get to even the first or the second floor of a building.\":[\"https://raw.githubusercontent.com/anonym1ous2/YesBut_selected/main/row_254.jpg\",\"https://raw.githubusercontent.com/anonym1ous2/YesBut_selected/main/row_551.jpg\",\"https://raw.githubusercontent.com/anonym1ous2/YesBut_selected/main/row_552.jpg\",\"https://raw.githubusercontent.com/anonym1ous2/YesBut_selected/main/row_553.jpg\",\"https://raw.githubusercontent.com/anonym1ous2/YesBut_selected/main/row_1020.jpg\",\"https://raw.githubusercontent.com/anonym1ous2/YesBut_selected/main/row_1021.jpg\",\"https://raw.githubusercontent.com/anonym1ous2/YesBut_selected/main/row_1022.jpg\",\"https://raw.githubusercontent.com/anonym1ous2/YesBut_selected/main/row_1023.jpg\",\"https://raw.githubusercontent.com/anonym1ous2/YesBut_selected/main/row_1024.jpg\"],\n",
    "    \"The image is ironical, as the folder icons on the desktop screen are very neatly arranged, while the person using the computer has littered the table with used food packets, dirty plates, and wrappers.\":[\"https://raw.githubusercontent.com/anonym1ous2/YesBut_selected/main/row_260.jpg\",\"https://raw.githubusercontent.com/anonym1ous2/YesBut_selected/main/row_564.jpg\",\"https://raw.githubusercontent.com/anonym1ous2/YesBut_selected/main/row_1033.jpg\",\"https://raw.githubusercontent.com/anonym1ous2/YesBut_selected/main/row_1034.jpg\",\"https://raw.githubusercontent.com/anonym1ous2/YesBut_selected/main/row_1035.jpg\",\"https://raw.githubusercontent.com/anonym1ous2/YesBut_selected/main/row_1036.jpg\"],\n",
    "    \"The image is funny because even though the trolley bag is made to make carrying luggage easy, as soon as it encounters a rough surface like cobblestone road, it makes carrying luggage more difficult.\":[\"https://raw.githubusercontent.com/anonym1ous2/YesBut_selected/main/row_261.jpg\",\"https://raw.githubusercontent.com/anonym1ous2/YesBut_selected/main/row_565.jpg\",\"https://raw.githubusercontent.com/anonym1ous2/YesBut_selected/main/row_1037.jpg\",\"https://raw.githubusercontent.com/anonym1ous2/YesBut_selected/main/row_1038.jpg\",\"https://raw.githubusercontent.com/anonym1ous2/YesBut_selected/main/row_1039.jpg\",\"https://raw.githubusercontent.com/anonym1ous2/YesBut_selected/main/row_1040.jpg\"],\n",
    "    \"The image is funny because while there is an offer that lets the buyer have a free item if they buy two items of the product, there is only two units left which means that the buyer won't get the free unit.\":[\"https://raw.githubusercontent.com/anonym1ous2/YesBut_selected/main/row_270.jpg\",\"https://raw.githubusercontent.com/anonym1ous2/YesBut_selected/main/row_572.jpg\",\"https://raw.githubusercontent.com/anonym1ous2/YesBut_selected/main/row_1052.jpg\"],\n",
    "    \"The image is ironic, because in the first image in the bathroom there are so many things to clean hands around the basin but in the same bathroom people have to open the doors by hand which can easily spread the germs or bacteria even after times of hand cleaning as there is no way to open it without hands\":[\"https://raw.githubusercontent.com/anonym1ous2/YesBut_selected/main/row_273.jpg\",\"https://raw.githubusercontent.com/anonym1ous2/YesBut_selected/main/row_577.jpg\",\"https://raw.githubusercontent.com/anonym1ous2/YesBut_selected/main/row_1062.jpg\",\"https://raw.githubusercontent.com/anonym1ous2/YesBut_selected/main/row_1063.jpg\",\"https://raw.githubusercontent.com/anonym1ous2/YesBut_selected/main/row_1064.jpg\",\"https://raw.githubusercontent.com/anonym1ous2/YesBut_selected/main/row_1065.jpg\"],\n",
    "}\n",
    "\n",
    "\n",
    "real={\n",
    "   \"The image is ironical, as the person wearing a formal black suit and pants, is wearing colorful socks, probably due to the reason that socks are not visible while wearing shoes, and hence, do not need to be formal.\" :[\"https://raw.githubusercontent.com/anonym1ous2/sample/refs/heads/main/SaveClip.App_275211666_1028382331358554_6111443335778974828_n.jpg\"],\n",
    "   \"The images are funny since it shows how the food packaging sets unreal expectations for the food inside with its graphics. The user gets to see the rather dull food once he opens the package and it is amusing to see how different the actual product is from the images\":[\"https://raw.githubusercontent.com/anonym1ous2/sample/refs/heads/main/SaveClip.App_416138721_394768086326935_3081336107476994201_n.jpg\",\"https://raw.githubusercontent.com/anonym1ous2/sample/refs/heads/main/SaveClip.App_316092179_1763851820674580_9080411233231384161_n.jpg\",\"https://raw.githubusercontent.com/anonym1ous2/sample/refs/heads/main/SaveClip.App_318147026_1211593386099644_7562270963963107211_n.jpg\",\"https://raw.githubusercontent.com/anonym1ous2/sample/refs/heads/main/SaveClip.App_321521783_832153507854712_486238085233343538_n.jpg\",\"https://raw.githubusercontent.com/anonym1ous2/sample/refs/heads/main/SaveClip.App_330100730_585577176418099_672708529105089017_n.jpg\"],\n",
    "   \"This image is funny because images of very regular things - a stick figure and a bicycle, get converted into  looking phallic from a distance.\":[\"https://raw.githubusercontent.com/anonym1ous2/sample/refs/heads/main/SaveClip.App_343789068_924010512197718_7345495077527770740_n.jpg\"],\n",
    "   \"The image is ironic, as the t-shirt that says \\\"NONBINARY\\\" has only 2 options for gender on an online retail forum.\":[\"https://raw.githubusercontent.com/anonym1ous2/sample/refs/heads/main/SaveClip.App_285950851_806199317406916_4526982499195858009_n.jpg\",\"https://raw.githubusercontent.com/anonym1ous2/sample/refs/heads/main/SaveClip.App_394963018_3662971040650917_327289146228673232_n.jpg\"],\n",
    "   \"The images are funny since they show how a jumbled rubiks cube appears solved simply because of the viewers perspective.\": [\"https://raw.githubusercontent.com/anonym1ous2/sample/refs/heads/main/SaveClip.App_332161896_532406235543028_368567262862561559_n.jpg\"],\n",
    "   \"The image is funny, as the drink seems to be full to begin with, while most of the volume of the drink is occupied by the ice cubes.\":[\"https://raw.githubusercontent.com/anonym1ous2/sample/refs/heads/main/SaveClip.App_280121116_768005304578044_3980753736715995405_n.jpg\"],\n",
    "   \"The irony in this image describes shrinkflation, which is when stores start selling big bags of products with less product in them.\":[\"https://raw.githubusercontent.com/anonym1ous2/sample/refs/heads/main/SaveClip.App_314918044_717700115955401_5172335703706833559_n.jpg\"],\n",
    "   \"The image is ironic, because the mountaineer climbs up the mountain to view the world from the peak but due to so much cloud, at the top, nothing is visible whereas he was able to witness some awesome views while climbing up the mountain\":[\"https://raw.githubusercontent.com/anonym1ous2/sample/refs/heads/main/SaveClip.App_456204733_18015478424593548_1426370370410342956_n.jpg\"],\n",
    "   \"The images are ironic because even though garbage bins are provided for humans to dispose waste, by habit humans still choose to make surroundings dirty by disposing garbage improperly\":[\"https://raw.githubusercontent.com/anonym1ous2/sample/refs/heads/main/SaveClip.App_324840942_203245055610722_7996289328004410200_n.jpg\",\"https://raw.githubusercontent.com/anonym1ous2/sample/refs/heads/main/SaveClip.App_326434997_3327915704117584_4606145612068520493_n.jpg\",\"https://raw.githubusercontent.com/anonym1ous2/sample/refs/heads/main/SaveClip.App_336303424_162741703313701_5549708740755784258_n.jpg\",\"https://raw.githubusercontent.com/anonym1ous2/sample/refs/heads/main/SaveClip.App_364320130_599468375712524_4925043220400133572_n.jpg\",\"https://raw.githubusercontent.com/anonym1ous2/sample/refs/heads/main/SaveClip.App_448758249_18007166360593548_1501131208867907842_n.jpg\"],\n",
    "   \"The images are funny since it shows how someone has put effort into a cup of coffee to do latte art on it only for it to be invisible after a lid is put on the coffee cup before serving to a customer\" : [\"https://raw.githubusercontent.com/anonym1ous2/sample/refs/heads/main/SaveClip.App_359526493_692366592702938_231556044732748412_n.jpg\",\"https://raw.githubusercontent.com/anonym1ous2/sample/refs/heads/main/SaveClip.App_369766844_708732570839784_938956826479015028_n.jpg\",\"https://raw.githubusercontent.com/anonym1ous2/sample/refs/heads/main/SaveClip.App_449873980_464251456410931_1037033113460555244_n.jpg\"],\n",
    "   \"The image is ironic, because the left image suggest that a person applies lipsticks on their lips to make their lips look attractive or to keep them hydrated but on the contrary it gets sticked to the glasses or mugs and gets wasted\":[\"https://raw.githubusercontent.com/anonym1ous2/sample/refs/heads/main/SaveClip.App_417410278_933378481540064_3383376629519900803_n.jpg\"],    \n",
    "   \"The images are ironic since the metallic water bottle aims to be more sustainable as can be seen from the sign on the bottle but its user fills it with a plastic bottle which destroys its purpose\":[\"https://raw.githubusercontent.com/anonym1ous2/sample/refs/heads/main/SaveClip.App_332978328_223262350064487_84284848410473730_n.jpg\",\"https://raw.githubusercontent.com/anonym1ous2/sample/refs/heads/main/SaveClip.App_346517752_1040503490251806_4397100440498572846_n.jpg\"], \n",
    "   \"The image is funny, as the traffic light for pedestrains is red, even though it is at a zebra crossing, which does not need a red light for stopping a pedestrain from crossing. Also, there are no people or vehicles around, which makes the image even funnier.\":[\"https://raw.githubusercontent.com/anonym1ous2/sample/refs/heads/main/SaveClip.App_309649761_839939423669814_397728976301717904_n.jpg\"],\n",
    "   \"The image is ironic, because on the one side tetra packs have cap or lid for opening but on the other side the folded end seems inconvenient to handle\":[\"https://raw.githubusercontent.com/anonym1ous2/sample/refs/heads/main/SaveClip.App_278779337_1447701765685719_5703709241772921109_n.jpg\"],\n",
    "   \"the irony is that dog owners buy loads of toys for their dog but the dog's favourite toy is the owner's slippers\": [\"https://raw.githubusercontent.com/anonym1ous2/sample/refs/heads/main/SaveClip.App_314471621_1151021592510334_4935155743282221544_n.jpg\",\"https://raw.githubusercontent.com/anonym1ous2/sample/refs/heads/main/SaveClip.App_314983452_538326701465487_8206031603573820730_n.jpg\"],\n",
    "   \"The image is ironic, because even when the coffee maker create latte art to make coffee look attractive but it is there just for a short time after that it is vanished\":[\"https://raw.githubusercontent.com/anonym1ous2/sample/refs/heads/main/SaveClip.App_332268756_157654190416405_735502677878574974_n.jpg\",\"https://raw.githubusercontent.com/anonym1ous2/sample/refs/heads/main/SaveClip.App_335758061_2134656630258021_3556250872116672537_n.jpg\",\"https://raw.githubusercontent.com/anonym1ous2/sample/refs/heads/main/SaveClip.App_419905761_821979766362920_5044516685649702478_n.jpg\",\"https://raw.githubusercontent.com/anonym1ous2/sample/refs/heads/main/SaveClip.App_347444836_977257196964867_1187896824378758673_n.jpg\"],\n",
    "   \"The image is ironic, because even when the signal is green for the pedestrians but they can't cross the road because of the vehicles standing on the zebra crossing\":[\"https://raw.githubusercontent.com/anonym1ous2/sample/refs/heads/main/SaveClip.App_346320085_1380234159187933_2752042743694645735_n.jpg\",\"https://raw.githubusercontent.com/anonym1ous2/sample/refs/heads/main/SaveClip.App_400937032_646269584346443_1937231406126379454_n.jpg\"],\n",
    "   \"This is funny because the pie chart printout is useless as you cant see any divisions on it because the  printer could not capture the different colors\":[\"https://raw.githubusercontent.com/anonym1ous2/sample/refs/heads/main/SaveClip.App_333475639_600693591654298_1340940144249148837_n.jpg\"],\n",
    "   \"The image is funny, because even when there is a dedicated thing for the animal to play with it still is hiding itself in the paper bag\":[\"https://raw.githubusercontent.com/anonym1ous2/sample/refs/heads/main/SaveClip.App_278489767_830645997849264_6024818318007813413_n.jpg\",\"https://raw.githubusercontent.com/anonym1ous2/sample/refs/heads/main/SaveClip.App_323703541_1338577230263699_8816101487605561291_n.jpg\"],\n",
    "   \"The image is ironical, as even though the art studio contains a palette of a range of color paints, the painting on the canvas is black and white.\":[\"https://raw.githubusercontent.com/anonym1ous2/sample/refs/heads/main/SaveClip.App_314398389_484246290331222_8324507511324836597_n.jpg\"],\n",
    "   \"the image is funny, as the marking at the top of the packaging shows that you would need a pair of scissors to in-turn cut open the pair of scissors that is inside the packaging.\":[\"https://raw.githubusercontent.com/anonym1ous2/sample/refs/heads/main/SaveClip.App_291801056_721026802518529_3474019106581051939_n.jpg\",\"https://raw.githubusercontent.com/anonym1ous2/sample/refs/heads/main/SaveClip.App_332583217_240148675147303_7071709393846585139_n.jpg\",\"https://raw.githubusercontent.com/anonym1ous2/sample/refs/heads/main/SaveClip.App_318989517_209191201566127_2567479923793505339_n.jpg\"],\n",
    "   \"The images are ironic since a dog shampoo bottle has a sticker indicating that it has not been tested on animals and hence might not be safe for animal use. It is amusing that a product designed to be used by animals is not tested on animals for their safety\":[\"https://raw.githubusercontent.com/anonym1ous2/sample/refs/heads/main/SaveClip.App_311208942_627552808814077_8952118227087045259_n.jpg\"],\n",
    "   \"The image is ironic, because in the first image clear sky is visible but in the second image the same view is getting blocked due to the electricity pole\":[\"https://raw.githubusercontent.com/anonym1ous2/sample/refs/heads/main/SaveClip.App_323504966_3478720619074992_7730328247236310311_n.jpg\",\"https://raw.githubusercontent.com/anonym1ous2/sample/refs/heads/main/SaveClip.App_323938671_3343019945985873_5622821348697968015_n.jpg\",\"https://raw.githubusercontent.com/anonym1ous2/sample/refs/heads/main/SaveClip.App_417195880_326062630398656_9170380920227449275_n.jpg\"],\n",
    "   \"The image is ironic, because  in the first image the waiter is bringing the dish to the table presenting it as some lavish dish but in the second image when the dish is shown in the plate its just a small piece to eat\":[\"https://raw.githubusercontent.com/anonym1ous2/sample/refs/heads/main/SaveClip.App_366549288_1070133247696920_5445635123239375231_n.jpg\"],\n",
    "   \"The image is funny becuase while folding the side mirrors is good when the car is not being used because it prevents damage but it is supposed to be used while driving and parking the car which has not been done in this case leading the car to be parked impropely.\":[\"https://raw.githubusercontent.com/anonym1ous2/sample/refs/heads/main/SaveClip.App_309431597_155192457146209_3940016972277977014_n.jpg\",\"https://raw.githubusercontent.com/anonym1ous2/sample/refs/heads/main/SaveClip.App_300438473_1704739823228832_2775931044567874611_n.jpg\"],\n",
    "   \"The images are ironic since paper straws were invented to reduce use of plastic in the form of plastic straws. However, these straws come in plastic packages and are served with plastic cups, defeating  the purpose\":[\"https://raw.githubusercontent.com/anonym1ous2/sample/refs/heads/main/SaveClip.App_290202617_557070296061737_1068383715247158454_n.jpg\",\"https://raw.githubusercontent.com/anonym1ous2/sample/refs/heads/main/SaveClip.App_305511844_1728409104199898_2100741024551232463_n.jpg\",\"https://raw.githubusercontent.com/anonym1ous2/sample/refs/heads/main/SaveClip.App_286029501_134855272238214_5687405187163806505_n.jpg\",\"https://raw.githubusercontent.com/anonym1ous2/sample/refs/heads/main/SaveClip.App_317613483_207172218438070_5011500110241043106_n.jpg\",\"https://raw.githubusercontent.com/anonym1ous2/sample/refs/heads/main/SaveClip.App_320613688_218929513822698_8480099765276485764_n.jpg\",\"https://raw.githubusercontent.com/anonym1ous2/sample/refs/heads/main/SaveClip.App_323787752_895192024844619_5063611813470046637_n.jpg\",\"https://raw.githubusercontent.com/anonym1ous2/sample/refs/heads/main/SaveClip.App_325248814_1394030771136063_2087095057509008081_n.jpg\"],\n",
    "   \"The images are ironic since even though e-tickets are provided to save resources like paper, people choose to print out e-tickets on large sheets of paper which leads to more wastage\":[\"https://raw.githubusercontent.com/anonym1ous2/sample/refs/heads/main/SaveClip.App_310781262_162208143094042_1637593543665899844_n.jpg\"],\n",
    "   \"The image is ironic, because in the first image a toy, purposed for the cat to play with is shown but in the second image the cat is comfortably enjoying  to play on the sides of sofa\":[\"https://raw.githubusercontent.com/anonym1ous2/sample/refs/heads/main/SaveClip.App_323713345_714929140240398_359974157100325138_n.jpg\"],\n",
    "   \"The image is ironic, because in the left image the man is showing love and care for the puppy but in the right image the same puppy is shown to be chained in a kennel, which shows dual nature of human towards animals\":[\"https://raw.githubusercontent.com/anonym1ous2/sample/refs/heads/main/SaveClip.App_311490640_796639291622862_85302945894632248_n.jpg\",\"https://raw.githubusercontent.com/anonym1ous2/sample/refs/heads/main/SaveClip.App_311733782_504345618228514_4044127683600097010_n.jpg\"],\n",
    "   \"The image is ironic, because a car trunk was earlier designed to keep some extra luggage or things but people nowadays get speakers installed in the trunk which in turn reduces the space in the trunk and making it difficult for people to store the extra luggage in the trunk\":[\"https://raw.githubusercontent.com/anonym1ous2/sample/refs/heads/main/SaveClip.App_292107804_1379857209091967_6821399085446949488_n.jpg\"],\n",
    "   \"The image is ironic, because the left door of the car is easily opened with still space left so the car could have been parked more on the left whereas the right door of the car is getting stuck due to the less space between the two cars and the person in facing difficulty in getting himself out but person on the left easily gets out\" : [\"https://raw.githubusercontent.com/anonym1ous2/sample/refs/heads/main/SaveClip.App_305288075_1709243396108552_1034904963630530557_n.jpg\"],\n",
    "   \"The image is funny because while there are different holes provided to dump different kinds of waste, the separation is meaningless because the underlying bin which is the same. So all kinds of trash is collected together and can not be used for recycling.\":[\"https://raw.githubusercontent.com/anonym1ous2/sample/refs/heads/main/SaveClip.App_297431619_3424228944485414_5939956556386102355_n.jpg\",\"https://raw.githubusercontent.com/anonym1ous2/sample/refs/heads/main/SaveClip.App_289001595_147691507840452_2067148611441724151_n.jpg\",\"https://raw.githubusercontent.com/anonym1ous2/sample/refs/heads/main/SaveClip.App_349138079_6559607667402741_5175245715954764332_n.jpg\",\"https://raw.githubusercontent.com/anonym1ous2/sample/refs/heads/main/SaveClip.App_449711657_534550219250264_9148209318759268985_n.jpg\"],\n",
    "   \"This image is funny because a cap is MEANT to protect one's eyes from the sun, but this person is more interested in using it to look stylish, even if it makes them uncomfortable.\":[\"https://raw.githubusercontent.com/anonym1ous2/sample/refs/heads/main/SaveClip.App_300825198_1017118068983922_7865139947833922056_n.jpg\",\"https://raw.githubusercontent.com/anonym1ous2/sample/refs/heads/main/SaveClip.App_316261456_661391868960670_918068564526563032_n.jpg\"],\n",
    "   \"The images are funny since even though a cat tree is bought for cats to play with, cats would usually rather play with inexpensive cardboard boxes because they enjoy it more\":[\"https://raw.githubusercontent.com/anonym1ous2/sample/refs/heads/main/SaveClip.App_277923214_931717664190220_8538571144651410771_n.jpg\",\"https://raw.githubusercontent.com/anonym1ous2/sample/refs/heads/main/SaveClip.App_305587462_525851172214553_5387720882314407851_n.jpg\",\"https://raw.githubusercontent.com/anonym1ous2/sample/refs/heads/main/SaveClip.App_311862247_527264735907250_5089435647104624313_n.jpg\",\"https://raw.githubusercontent.com/anonym1ous2/sample/refs/heads/main/SaveClip.App_314449032_205529255207568_3810423425505034973_n.jpg\",\"https://raw.githubusercontent.com/anonym1ous2/sample/refs/heads/main/SaveClip.App_317200404_713725970065982_2429569686891292180_n.jpg\",\"https://raw.githubusercontent.com/anonym1ous2/sample/refs/heads/main/SaveClip.App_320015789_698756174996798_8823636948721600220_n.jpg\",\"https://raw.githubusercontent.com/anonym1ous2/sample/refs/heads/main/SaveClip.App_323799573_1570307723393802_410319873471062754_n.jpg\",\"https://raw.githubusercontent.com/anonym1ous2/sample/refs/heads/main/SaveClip.App_329971302_743530114143053_1055399187618064571_n.jpg\",\"https://raw.githubusercontent.com/anonym1ous2/sample/refs/heads/main/SaveClip.App_331436600_213868564451602_3481616860142204073_n.jpg\",\"https://raw.githubusercontent.com/anonym1ous2/sample/refs/heads/main/SaveClip.App_343609435_2165581470297583_534000772740323369_n.jpg\",\"https://raw.githubusercontent.com/anonym1ous2/sample/refs/heads/main/SaveClip.App_347078391_590031619771237_5241916450968727423_n.jpg\",\"https://raw.githubusercontent.com/anonym1ous2/sample/refs/heads/main/SaveClip.App_358171611_3442375112745006_8941567139557895145_n.jpg\"],\n",
    "   \"The irony in this video is that people try to promote and embrace veganism end up using products that are not animal-free.\":[\"https://raw.githubusercontent.com/anonym1ous2/sample/refs/heads/main/SaveClip.App_293833076_352662866874573_545263267653975836_n.jpg\",\"https://raw.githubusercontent.com/anonym1ous2/sample/refs/heads/main/SaveClip.App_280675286_2279940765477248_5679385772314096580_n.jpg\",\"https://raw.githubusercontent.com/anonym1ous2/sample/refs/heads/main/SaveClip.App_307097489_405877365026021_8861885766970850969_n.jpg\"],\n",
    "   \"The image is satirical because it shows that while people do various kinds of exercises and go to gym to stay fit, they avoid doing simplest of physical tasks like using stairs instead of elevators to get to even the first or the second floor of a building.\":[\"https://raw.githubusercontent.com/anonym1ous2/sample/refs/heads/main/SaveClip.App_302035605_120339890632593_4621605326048091675_n.jpg\",\"https://raw.githubusercontent.com/anonym1ous2/sample/refs/heads/main/SaveClip.App_321153709_1558869701205003_1581016717298361103_n.jpg\"],\n",
    "   \"The image is ironical, as the folder icons on the desktop screen are very neatly arranged, while the person using the computer has littered the table with used food packets, dirty plates, and wrappers.\":[\"https://raw.githubusercontent.com/anonym1ous2/sample/refs/heads/main/SaveClip.App_254302730_928184807789528_5801227841668561637_n.jpg\"],\n",
    "   \"The image is funny because even though the trolley bag is made to make carrying luggage easy, as soon as it encounters a rough surface like cobblestone road, it makes carrying luggage more difficult.\":[\"https://raw.githubusercontent.com/anonym1ous2/sample/refs/heads/main/SaveClip.App_290904509_327892399550329_7544868281622467019_n.jpg\"], \n",
    "   \"The image is funny because while there is an offer that lets the buyer have a free item if they buy two items of the product, there is only two units left which means that the buyer won't get the free unit.\":[\"https://raw.githubusercontent.com/anonym1ous2/sample/refs/heads/main/SaveClip.App_298641815_1300964007376312_8697836845897215145_n.jpg\",\"https://raw.githubusercontent.com/anonym1ous2/sample/refs/heads/main/SaveClip.App_306848050_1088482708474835_8616857939583106423_n.jpg\",\"https://raw.githubusercontent.com/anonym1ous2/sample/refs/heads/main/SaveClip.App_323837088_1389484264921054_6075023640934721591_n.jpg\",\"https://raw.githubusercontent.com/anonym1ous2/sample/refs/heads/main/SaveClip.App_325907734_537491808340866_3102391091034223114_n.jpg\"],\n",
    "   \"The image is ironic, because in the first image in the bathroom there are so many things to clean hands around the basin but in the same bathroom people have to open the doors by hand which can easily spread the germs or bacteria even after times of hand cleaning as there is no way to open it without hands\":[\"https://raw.githubusercontent.com/anonym1ous2/sample/refs/heads/main/SaveClip.App_277515278_639924653749782_8018249708176891880_n.jpg\",\"https://raw.githubusercontent.com/anonym1ous2/sample/refs/heads/main/SaveClip.App_325961427_942422850266687_5958555762820364561_n.jpg\"] \n",
    "    \n",
    "    \n",
    "}\n",
    "\n",
    "\n",
    "\n"
   ]
  },
  {
   "cell_type": "code",
   "execution_count": null,
   "metadata": {
    "execution": {
     "iopub.execute_input": "2025-04-15T10:23:52.179361Z",
     "iopub.status.busy": "2025-04-15T10:23:52.178939Z",
     "iopub.status.idle": "2025-04-15T10:23:53.516093Z",
     "shell.execute_reply": "2025-04-15T10:23:53.515029Z",
     "shell.execute_reply.started": "2025-04-15T10:23:52.179327Z"
    },
    "trusted": true
   },
   "outputs": [],
   "source": [
    "from google import genai\n",
    "\n",
    "client = genai.Client(api_key=\"<API_KEY>\")"
   ]
  },
  {
   "cell_type": "code",
   "execution_count": null,
   "metadata": {
    "execution": {
     "iopub.execute_input": "2025-04-15T10:23:53.518119Z",
     "iopub.status.busy": "2025-04-15T10:23:53.517563Z",
     "iopub.status.idle": "2025-04-15T10:23:53.524997Z",
     "shell.execute_reply": "2025-04-15T10:23:53.523805Z",
     "shell.execute_reply.started": "2025-04-15T10:23:53.518086Z"
    },
    "trusted": true
   },
   "outputs": [],
   "source": [
    "import requests\n",
    "from PIL import Image\n",
    "import io\n",
    "\n",
    "def load_image_from_url(image_url : str):\n",
    "    \"\"\"Load image content from a URL as PIL.Image.\"\"\"\n",
    "    response = requests.get(image_url)\n",
    "    try:\n",
    "        image = Image.open(io.BytesIO(response.content)).convert(\"RGB\")\n",
    "    except Exception as e:\n",
    "        print(\"Error :(\")\n",
    "    return image\n",
    "\n",
    "def generate_caption(image_url : str):\n",
    "    image = load_image_from_url(image_url)\n",
    "    response = client.models.generate_content(\n",
    "        model=\"gemini-2.0-flash\",\n",
    "        contents=[image, \"Why is this image funny/satirical? Answer within 50 words.\"]\n",
    "    )\n",
    "    return response.text"
   ]
  },
  {
   "cell_type": "code",
   "execution_count": null,
   "metadata": {
    "execution": {
     "iopub.execute_input": "2025-04-15T10:23:56.562582Z",
     "iopub.status.busy": "2025-04-15T10:23:56.562259Z",
     "iopub.status.idle": "2025-04-15T10:23:56.575645Z",
     "shell.execute_reply": "2025-04-15T10:23:56.574747Z",
     "shell.execute_reply.started": "2025-04-15T10:23:56.562556Z"
    },
    "trusted": true
   },
   "outputs": [],
   "source": [
    "from tqdm import tqdm\n",
    "import time\n",
    "\n",
    "def caption_list(img_dict : dict):\n",
    "    captions = []\n",
    "    image_links = []\n",
    "    \n",
    "    # Loop through your dataset\n",
    "    for desc, img_list in tqdm(img_dict.items()):\n",
    "        for img in img_list:\n",
    "            try:\n",
    "                response = generate_caption(img)  # This function returns a caption string\n",
    "            except Exception as e:\n",
    "                response = f\"Error: {e}\"\n",
    "                print(response)\n",
    "    \n",
    "            captions.append(response)\n",
    "            image_links.append(img)\n",
    "    \n",
    "            # Respect rate limit: 15 requests/minute → wait ~4.1 seconds\n",
    "            time.sleep(4.1)\n",
    "\n",
    "    return captions, image_links"
   ]
  },
  {
   "cell_type": "code",
   "execution_count": null,
   "metadata": {
    "execution": {
     "iopub.execute_input": "2025-04-15T10:24:09.819552Z",
     "iopub.status.busy": "2025-04-15T10:24:09.818512Z",
     "iopub.status.idle": "2025-04-15T10:40:15.819802Z",
     "shell.execute_reply": "2025-04-15T10:40:15.818910Z",
     "shell.execute_reply.started": "2025-04-15T10:24:09.819514Z"
    },
    "trusted": true
   },
   "outputs": [],
   "source": [
    "original_captions, original_image_links = caption_list(original)"
   ]
  },
  {
   "cell_type": "code",
   "execution_count": null,
   "metadata": {
    "execution": {
     "iopub.execute_input": "2025-04-15T10:43:14.245423Z",
     "iopub.status.busy": "2025-04-15T10:43:14.245072Z",
     "iopub.status.idle": "2025-04-15T10:43:14.686754Z",
     "shell.execute_reply": "2025-04-15T10:43:14.685799Z",
     "shell.execute_reply.started": "2025-04-15T10:43:14.245401Z"
    },
    "trusted": true
   },
   "outputs": [],
   "source": [
    "import pandas as pd\n",
    "# Create a DataFrame from the collected data\n",
    "df = pd.DataFrame({\n",
    "    \"generated_description\": original_captions,\n",
    "    \"image_link\": original_image_links\n",
    "})\n",
    "\n",
    "# Save the DataFrame to CSV\n",
    "df.to_csv(\"/kaggle/working/gemini-2.0-flash_original_image_captions.csv\", index=False)"
   ]
  },
  {
   "cell_type": "code",
   "execution_count": null,
   "metadata": {
    "execution": {
     "iopub.execute_input": "2025-04-13T20:15:14.846192Z",
     "iopub.status.busy": "2025-04-13T20:15:14.845487Z",
     "iopub.status.idle": "2025-04-13T20:25:58.312073Z",
     "shell.execute_reply": "2025-04-13T20:25:58.311175Z",
     "shell.execute_reply.started": "2025-04-13T20:15:14.846163Z"
    },
    "trusted": true
   },
   "outputs": [],
   "source": [
    "real_captions, real_image_links = caption_list(real)"
   ]
  },
  {
   "cell_type": "code",
   "execution_count": null,
   "metadata": {
    "execution": {
     "iopub.execute_input": "2025-04-13T20:26:19.543114Z",
     "iopub.status.busy": "2025-04-13T20:26:19.542792Z",
     "iopub.status.idle": "2025-04-13T20:26:19.954623Z",
     "shell.execute_reply": "2025-04-13T20:26:19.953751Z",
     "shell.execute_reply.started": "2025-04-13T20:26:19.543089Z"
    },
    "trusted": true
   },
   "outputs": [],
   "source": [
    "import pandas as pd\n",
    "# Create a DataFrame from the collected data\n",
    "df = pd.DataFrame({\n",
    "    \"generated_description\": real_captions,\n",
    "    \"image_link\": real_image_links\n",
    "})\n",
    "\n",
    "# Save the DataFrame to CSV\n",
    "df.to_csv(\"/kaggle/working/gemini-2.0-flash_real_image_captions.csv\", index=False)"
   ]
  },
  {
   "cell_type": "markdown",
   "metadata": {},
   "source": [
    "## Performance evaluation for generated captions"
   ]
  },
  {
   "cell_type": "code",
   "execution_count": null,
   "metadata": {
    "execution": {
     "iopub.execute_input": "2025-04-15T16:38:36.959157Z",
     "iopub.status.busy": "2025-04-15T16:38:36.958530Z",
     "iopub.status.idle": "2025-04-15T16:38:36.964765Z",
     "shell.execute_reply": "2025-04-15T16:38:36.963905Z",
     "shell.execute_reply.started": "2025-04-15T16:38:36.959122Z"
    },
    "trusted": true
   },
   "outputs": [],
   "source": [
    "real_description = []\n",
    "for desc, img_list in real.items():\n",
    "    for _ in img_list:\n",
    "        real_description.append(desc)   \n",
    "\n",
    "print(real_description[:5])"
   ]
  },
  {
   "cell_type": "code",
   "execution_count": null,
   "metadata": {
    "execution": {
     "iopub.execute_input": "2025-04-15T16:38:37.208962Z",
     "iopub.status.busy": "2025-04-15T16:38:37.208209Z",
     "iopub.status.idle": "2025-04-15T16:38:37.214183Z",
     "shell.execute_reply": "2025-04-15T16:38:37.213272Z",
     "shell.execute_reply.started": "2025-04-15T16:38:37.208933Z"
    },
    "trusted": true
   },
   "outputs": [],
   "source": [
    "original_description = []\n",
    "for desc, img_list in original.items():\n",
    "    for _ in img_list:\n",
    "        original_description.append(desc)   \n",
    "\n",
    "print(original_description[:5])"
   ]
  },
  {
   "cell_type": "code",
   "execution_count": null,
   "metadata": {
    "execution": {
     "iopub.execute_input": "2025-04-15T16:38:40.870056Z",
     "iopub.status.busy": "2025-04-15T16:38:40.869254Z",
     "iopub.status.idle": "2025-04-15T16:38:41.237584Z",
     "shell.execute_reply": "2025-04-15T16:38:41.236890Z",
     "shell.execute_reply.started": "2025-04-15T16:38:40.870030Z"
    },
    "trusted": true
   },
   "outputs": [],
   "source": [
    "import pandas as pd\n",
    "df_real = pd.read_csv(\"/kaggle/input/btp-gemini-yesbut4real/gemini-2.0-flash_real_image_captions.csv\")\n",
    "\n",
    "\n",
    "# Extract references and predictions\n",
    "real_references = real_description\n",
    "real_predictions = df_real['generated_description'].astype(str).tolist()\n"
   ]
  },
  {
   "cell_type": "code",
   "execution_count": null,
   "metadata": {
    "execution": {
     "iopub.execute_input": "2025-04-15T16:38:41.238966Z",
     "iopub.status.busy": "2025-04-15T16:38:41.238714Z",
     "iopub.status.idle": "2025-04-15T16:38:41.258680Z",
     "shell.execute_reply": "2025-04-15T16:38:41.257869Z",
     "shell.execute_reply.started": "2025-04-15T16:38:41.238945Z"
    },
    "trusted": true
   },
   "outputs": [],
   "source": [
    "import pandas as pd\n",
    "df_original = pd.read_csv(\"/kaggle/input/btp-gemini-yesbut4real/gemini-2.0-flash_original_image_captions.csv\")\n",
    "\n",
    "original_references = original_description\n",
    "original_predictions = df_original['generated_description'].astype(str).tolist()"
   ]
  },
  {
   "cell_type": "code",
   "execution_count": null,
   "metadata": {
    "execution": {
     "iopub.execute_input": "2025-04-15T16:38:42.295107Z",
     "iopub.status.busy": "2025-04-15T16:38:42.294750Z",
     "iopub.status.idle": "2025-04-15T16:41:07.483901Z",
     "shell.execute_reply": "2025-04-15T16:41:07.482894Z",
     "shell.execute_reply.started": "2025-04-15T16:38:42.295082Z"
    },
    "trusted": true
   },
   "outputs": [],
   "source": [
    "!pip install evaluate\n",
    "!pip install rouge_score\n",
    "!pip install bert_score\n",
    "import evaluate\n",
    "\n",
    "def evaluate_metric(predictions, references):\n",
    "    # Load metrics\n",
    "    bleu = evaluate.load(\"bleu\")\n",
    "    meteor = evaluate.load(\"meteor\")\n",
    "    rouge = evaluate.load(\"rouge\")\n",
    "    bertscore = evaluate.load(\"bertscore\")\n",
    "    \n",
    "    # Compute metrics\n",
    "    bleu_result = bleu.compute(predictions=predictions, references=[[ref] for ref in references])\n",
    "    meteor_result = meteor.compute(predictions=predictions, references=references)\n",
    "    rouge_result = rouge.compute(predictions=predictions, references=references)\n",
    "    bertscore_result = bertscore.compute(predictions=predictions, references=references, lang=\"en\")\n",
    "\n",
    "    return bleu_result, meteor_result, rouge_result, bertscore_result"
   ]
  },
  {
   "cell_type": "code",
   "execution_count": null,
   "metadata": {
    "execution": {
     "iopub.status.busy": "2025-04-15T10:40:15.929578Z",
     "iopub.status.idle": "2025-04-15T10:40:15.929946Z",
     "shell.execute_reply": "2025-04-15T10:40:15.929772Z",
     "shell.execute_reply.started": "2025-04-15T10:40:15.929755Z"
    },
    "trusted": true
   },
   "outputs": [],
   "source": [
    "real_bleu_result, real_meteor_result, real_rouge_result, real_bertscore_result = evaluate_metric(real_references, real_predictions)\n",
    "\n",
    "# Print results\n",
    "print(f\"Evaluation for REAL Dataset...\", \"\\n\")\n",
    "print(f\"BLEU Score     : {real_bleu_result['bleu']}\")\n",
    "print(f\"METEOR Score   : {real_meteor_result['meteor']}\")\n",
    "print(f\"ROUGE-L Score  : {real_rouge_result['rougeL']}\")\n",
    "print(f\"BERTScore (F1) : {sum(real_bertscore_result['f1']) / len(real_bertscore_result['f1'])}\")"
   ]
  },
  {
   "cell_type": "code",
   "execution_count": null,
   "metadata": {
    "execution": {
     "iopub.execute_input": "2025-04-15T10:47:10.242498Z",
     "iopub.status.busy": "2025-04-15T10:47:10.241575Z",
     "iopub.status.idle": "2025-04-15T10:48:27.658796Z",
     "shell.execute_reply": "2025-04-15T10:48:27.657850Z",
     "shell.execute_reply.started": "2025-04-15T10:47:10.242465Z"
    },
    "trusted": true
   },
   "outputs": [],
   "source": [
    "original_bleu_result, original_meteor_result, original_rouge_result, original_bertscore_result = evaluate_metric(original_references, original_predictions)\n",
    "\n",
    "# Print results\n",
    "print(f\"Evaluation for ORIGINAL Dataset...\", \"\\n\")\n",
    "print(f\"BLEU Score     : {original_bleu_result['bleu']}\")\n",
    "print(f\"METEOR Score   : {original_meteor_result['meteor']}\")\n",
    "print(f\"ROUGE-L Score  : {original_rouge_result['rougeL']}\")\n",
    "print(f\"BERTScore (F1) : {sum(original_bertscore_result['f1']) / len(original_bertscore_result['f1'])}\")"
   ]
  },
  {
   "cell_type": "markdown",
   "metadata": {},
   "source": [
    "## Percentage calculation of real dataset with lower metric than original dataset"
   ]
  },
  {
   "cell_type": "code",
   "execution_count": null,
   "metadata": {
    "execution": {
     "iopub.execute_input": "2025-04-15T16:41:07.487237Z",
     "iopub.status.busy": "2025-04-15T16:41:07.485859Z",
     "iopub.status.idle": "2025-04-15T16:41:19.643365Z",
     "shell.execute_reply": "2025-04-15T16:41:19.642151Z",
     "shell.execute_reply.started": "2025-04-15T16:41:07.487206Z"
    },
    "trusted": true
   },
   "outputs": [],
   "source": [
    "!pip install evaluate\n",
    "!pip install rouge_score\n",
    "!pip install bert_score\n",
    "import evaluate\n",
    "\n",
    "def individual_metric_score(predictions, references):\n",
    "    # Load metrics once\n",
    "    bleu = evaluate.load(\"bleu\")\n",
    "    meteor = evaluate.load(\"meteor\")\n",
    "    rouge = evaluate.load(\"rouge\")\n",
    "    bertscore = evaluate.load(\"bertscore\")\n",
    "    \n",
    "    # Store individual scores\n",
    "    bleu_scores = []\n",
    "    meteor_scores = []\n",
    "    rougeL_scores = []\n",
    "    bertscore_f1_scores = []\n",
    "    \n",
    "    # Loop through each prediction-reference pair\n",
    "    for pred, ref in zip(predictions, references):\n",
    "        bleu_result = bleu.compute(predictions=[pred], references=[[ref]])\n",
    "        meteor_result = meteor.compute(predictions=[pred], references=[ref])\n",
    "        rouge_result = rouge.compute(predictions=[pred], references=[ref])\n",
    "        bertscore_result = bertscore.compute(predictions=[pred], references=[ref], lang=\"en\")\n",
    "    \n",
    "        bleu_scores.append(bleu_result['bleu'])\n",
    "        meteor_scores.append(meteor_result['meteor'])\n",
    "        rougeL_scores.append(rouge_result['rougeL'])\n",
    "        bertscore_f1_scores.append(bertscore_result['f1'][0])  # returns a list, take first item\n",
    "\n",
    "    return bleu_scores, meteor_scores, rougeL_scores, bertscore_f1_scores"
   ]
  },
  {
   "cell_type": "code",
   "execution_count": null,
   "metadata": {
    "execution": {
     "iopub.execute_input": "2025-04-15T16:41:19.644915Z",
     "iopub.status.busy": "2025-04-15T16:41:19.644597Z",
     "iopub.status.idle": "2025-04-15T16:45:08.825674Z",
     "shell.execute_reply": "2025-04-15T16:45:08.824608Z",
     "shell.execute_reply.started": "2025-04-15T16:41:19.644884Z"
    },
    "trusted": true
   },
   "outputs": [],
   "source": [
    "real_bleu_scores, real_meteor_scores, real_rougeL_scores, real_bertscore_f1_scores = individual_metric_score(real_references, real_predictions)\n",
    "original_bleu_scores, original_meteor_scores, original_rougeL_scores, original_bertscore_f1_scores = individual_metric_score(original_references, original_predictions)"
   ]
  },
  {
   "cell_type": "code",
   "execution_count": null,
   "metadata": {
    "execution": {
     "iopub.execute_input": "2025-04-15T16:45:08.828035Z",
     "iopub.status.busy": "2025-04-15T16:45:08.827676Z",
     "iopub.status.idle": "2025-04-15T16:45:08.834280Z",
     "shell.execute_reply": "2025-04-15T16:45:08.833371Z",
     "shell.execute_reply.started": "2025-04-15T16:45:08.828008Z"
    },
    "trusted": true
   },
   "outputs": [],
   "source": [
    "num_less_bleu = sum(1 for r, o in zip(real_bleu_scores, original_bleu_scores) if r < o)\n",
    "num_less_meteor = sum(1 for r, o in zip(real_meteor_scores, original_meteor_scores) if r < o)\n",
    "num_less_rougeL = sum(1 for r, o in zip(real_rougeL_scores, original_rougeL_scores) if r < o)\n",
    "num_less_bertscore_f1 = sum(1 for r, o in zip(real_bertscore_f1_scores, original_bertscore_f1_scores) if r < o)"
   ]
  },
  {
   "cell_type": "code",
   "execution_count": null,
   "metadata": {
    "execution": {
     "iopub.execute_input": "2025-04-15T16:45:08.836107Z",
     "iopub.status.busy": "2025-04-15T16:45:08.835448Z",
     "iopub.status.idle": "2025-04-15T16:45:08.855512Z",
     "shell.execute_reply": "2025-04-15T16:45:08.854668Z",
     "shell.execute_reply.started": "2025-04-15T16:45:08.836075Z"
    },
    "trusted": true
   },
   "outputs": [],
   "source": [
    "print(f\"BLEU : {(100*num_less_bleu/len(real_bleu_scores)):.2f}%\")\n",
    "print(f\"METEOR : {(100*num_less_meteor/len(real_meteor_scores)):.2f}%\")\n",
    "print(f\"ROUGE-L : {(100*num_less_rougeL/len(real_rougeL_scores)):.2f}%\")\n",
    "print(f\"BERTSCORE-F1 : {(100*num_less_bertscore_f1/len(real_bertscore_f1_scores)):.2f}%\")"
   ]
  },
  {
   "cell_type": "markdown",
   "metadata": {},
   "source": [
    "## Generating captions for all real images in YesBut4Real"
   ]
  },
  {
   "cell_type": "code",
   "execution_count": null,
   "metadata": {
    "execution": {
     "iopub.execute_input": "2025-04-16T14:27:27.887015Z",
     "iopub.status.busy": "2025-04-16T14:27:27.886688Z",
     "iopub.status.idle": "2025-04-16T14:27:27.928532Z",
     "shell.execute_reply": "2025-04-16T14:27:27.927587Z",
     "shell.execute_reply.started": "2025-04-16T14:27:27.886991Z"
    },
    "trusted": true
   },
   "outputs": [],
   "source": [
    "import pandas as pd\n",
    "\n",
    "df = pd.read_csv(\"/kaggle/input/yesbut4real-images/YesBut4Real-initial-annotation - YesBut4Real Images.csv\")\n",
    "\n",
    "df.head()"
   ]
  },
  {
   "cell_type": "code",
   "execution_count": null,
   "metadata": {
    "execution": {
     "iopub.execute_input": "2025-04-16T14:27:28.454044Z",
     "iopub.status.busy": "2025-04-16T14:27:28.453697Z",
     "iopub.status.idle": "2025-04-16T14:27:28.460445Z",
     "shell.execute_reply": "2025-04-16T14:27:28.458389Z",
     "shell.execute_reply.started": "2025-04-16T14:27:28.454019Z"
    },
    "trusted": true
   },
   "outputs": [],
   "source": [
    "real_img_link_list = df[\"image_filename\"].tolist()"
   ]
  },
  {
   "cell_type": "code",
   "execution_count": null,
   "metadata": {
    "execution": {
     "iopub.execute_input": "2025-04-16T14:27:28.899388Z",
     "iopub.status.busy": "2025-04-16T14:27:28.898246Z",
     "iopub.status.idle": "2025-04-16T14:27:28.904426Z",
     "shell.execute_reply": "2025-04-16T14:27:28.903102Z",
     "shell.execute_reply.started": "2025-04-16T14:27:28.899356Z"
    },
    "trusted": true
   },
   "outputs": [],
   "source": [
    "from google import genai\n",
    "\n",
    "client = genai.Client(api_key=\"<API_KEY>\")"
   ]
  },
  {
   "cell_type": "code",
   "execution_count": null,
   "metadata": {
    "execution": {
     "iopub.execute_input": "2025-04-16T14:27:31.334299Z",
     "iopub.status.busy": "2025-04-16T14:27:31.333457Z",
     "iopub.status.idle": "2025-04-16T14:27:31.339818Z",
     "shell.execute_reply": "2025-04-16T14:27:31.338978Z",
     "shell.execute_reply.started": "2025-04-16T14:27:31.334271Z"
    },
    "trusted": true
   },
   "outputs": [],
   "source": [
    "import requests\n",
    "from PIL import Image\n",
    "import io\n",
    "\n",
    "def load_image_from_url(image_url : str):\n",
    "    \"\"\"Load image content from a URL as PIL.Image.\"\"\"\n",
    "    response = requests.get(image_url)\n",
    "    try:\n",
    "        image = Image.open(io.BytesIO(response.content)).convert(\"RGB\")\n",
    "    except Exception as e:\n",
    "        print(\"Error :(\")\n",
    "    return image\n",
    "\n",
    "def generate_caption(image_url : str):\n",
    "    image = load_image_from_url(image_url)\n",
    "    response = client.models.generate_content(\n",
    "        model=\"gemini-2.0-flash\",\n",
    "        contents=[image, \"Why is this image funny/satirical? Answer within 50 words.\"]\n",
    "    )\n",
    "    return response.text"
   ]
  },
  {
   "cell_type": "code",
   "execution_count": null,
   "metadata": {
    "execution": {
     "iopub.execute_input": "2025-04-16T14:27:31.571252Z",
     "iopub.status.busy": "2025-04-16T14:27:31.570938Z",
     "iopub.status.idle": "2025-04-16T14:27:31.577562Z",
     "shell.execute_reply": "2025-04-16T14:27:31.576586Z",
     "shell.execute_reply.started": "2025-04-16T14:27:31.571230Z"
    },
    "trusted": true
   },
   "outputs": [],
   "source": [
    "from tqdm import tqdm\n",
    "import time\n",
    "\n",
    "def caption_dict(img_link_list : list):\n",
    "    captions = {}\n",
    "    \n",
    "    # Loop through your dataset\n",
    "    for img_link in tqdm(img_link_list):\n",
    "        try:\n",
    "            response = generate_caption(img_link)  # This function returns a caption string\n",
    "        except Exception as e:\n",
    "            response = f\"Error: {e}\"\n",
    "            print(response)\n",
    "\n",
    "        captions[img_link] = response\n",
    "        \n",
    "        # Respect rate limit: 15 requests/minute → wait ~4.1 seconds\n",
    "        time.sleep(4.1)\n",
    "\n",
    "    return captions"
   ]
  },
  {
   "cell_type": "code",
   "execution_count": null,
   "metadata": {
    "execution": {
     "iopub.execute_input": "2025-04-16T14:27:33.459439Z",
     "iopub.status.busy": "2025-04-16T14:27:33.459084Z",
     "iopub.status.idle": "2025-04-16T17:11:58.863702Z",
     "shell.execute_reply": "2025-04-16T17:11:58.862930Z",
     "shell.execute_reply.started": "2025-04-16T14:27:33.459416Z"
    },
    "trusted": true
   },
   "outputs": [],
   "source": [
    "real_img_captions = caption_dict(real_img_link_list)"
   ]
  },
  {
   "cell_type": "code",
   "execution_count": null,
   "metadata": {
    "execution": {
     "iopub.execute_input": "2025-04-16T17:11:58.865662Z",
     "iopub.status.busy": "2025-04-16T17:11:58.864856Z",
     "iopub.status.idle": "2025-04-16T17:11:58.875398Z",
     "shell.execute_reply": "2025-04-16T17:11:58.874571Z",
     "shell.execute_reply.started": "2025-04-16T17:11:58.865640Z"
    },
    "trusted": true
   },
   "outputs": [],
   "source": [
    "import json\n",
    "\n",
    "# Save to JSON file\n",
    "with open(\"/kaggle/working/yesbut4real-real_images_generated_captions.json\", \"w\") as f:\n",
    "    json.dump(real_img_captions, f)"
   ]
  },
  {
   "cell_type": "code",
   "execution_count": null,
   "metadata": {
    "trusted": true
   },
   "outputs": [],
   "source": []
  }
 ],
 "metadata": {
  "kaggle": {
   "accelerator": "none",
   "dataSources": [
    {
     "datasetId": 7151518,
     "sourceId": 11418932,
     "sourceType": "datasetVersion"
    },
    {
     "datasetId": 7160747,
     "sourceId": 11432915,
     "sourceType": "datasetVersion"
    }
   ],
   "dockerImageVersionId": 31012,
   "isGpuEnabled": false,
   "isInternetEnabled": true,
   "language": "python",
   "sourceType": "notebook"
  },
  "kernelspec": {
   "display_name": "Python 3",
   "language": "python",
   "name": "python3"
  },
  "language_info": {
   "codemirror_mode": {
    "name": "ipython",
    "version": 3
   },
   "file_extension": ".py",
   "mimetype": "text/x-python",
   "name": "python",
   "nbconvert_exporter": "python",
   "pygments_lexer": "ipython3",
   "version": "3.11.11"
  }
 },
 "nbformat": 4,
 "nbformat_minor": 4
}
